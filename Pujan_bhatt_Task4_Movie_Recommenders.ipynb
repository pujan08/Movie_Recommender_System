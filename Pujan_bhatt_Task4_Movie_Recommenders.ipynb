{
  "nbformat": 4,
  "nbformat_minor": 0,
  "metadata": {
    "colab": {
      "provenance": [],
      "gpuType": "T4"
    },
    "kernelspec": {
      "name": "python3",
      "display_name": "Python 3"
    },
    "language_info": {
      "name": "python"
    },
    "accelerator": "GPU"
  },
  "cells": [
    {
      "cell_type": "markdown",
      "source": [
        "**Import library **bold text**"
      ],
      "metadata": {
        "id": "LhgQyk213v1c"
      }
    },
    {
      "cell_type": "code",
      "source": [
        "!pip install scikit-surprise"
      ],
      "metadata": {
        "colab": {
          "base_uri": "https://localhost:8080/"
        },
        "id": "GJWNJYFEVlpZ",
        "outputId": "92f29524-27d0-4a86-a8e7-4ec60af9db3e"
      },
      "execution_count": null,
      "outputs": [
        {
          "output_type": "stream",
          "name": "stdout",
          "text": [
            "Collecting scikit-surprise\n",
            "  Downloading scikit-surprise-1.1.3.tar.gz (771 kB)\n",
            "\u001b[2K     \u001b[90m━━━━━━━━━━━━━━━━━━━━━━━━━━━━━━━━━━━━━━━━\u001b[0m \u001b[32m772.0/772.0 kB\u001b[0m \u001b[31m3.6 MB/s\u001b[0m eta \u001b[36m0:00:00\u001b[0m\n",
            "\u001b[?25h  Preparing metadata (setup.py) ... \u001b[?25l\u001b[?25hdone\n",
            "Requirement already satisfied: joblib>=1.0.0 in /usr/local/lib/python3.10/dist-packages (from scikit-surprise) (1.3.2)\n",
            "Requirement already satisfied: numpy>=1.17.3 in /usr/local/lib/python3.10/dist-packages (from scikit-surprise) (1.25.2)\n",
            "Requirement already satisfied: scipy>=1.3.2 in /usr/local/lib/python3.10/dist-packages (from scikit-surprise) (1.11.4)\n",
            "Building wheels for collected packages: scikit-surprise\n",
            "  Building wheel for scikit-surprise (setup.py) ... \u001b[?25l\u001b[?25hdone\n",
            "  Created wheel for scikit-surprise: filename=scikit_surprise-1.1.3-cp310-cp310-linux_x86_64.whl size=3162732 sha256=4d4c947bb37beeec3a44494556cce0c79f097de60b76d17d087d80385d760b3c\n",
            "  Stored in directory: /root/.cache/pip/wheels/a5/ca/a8/4e28def53797fdc4363ca4af740db15a9c2f1595ebc51fb445\n",
            "Successfully built scikit-surprise\n",
            "Installing collected packages: scikit-surprise\n",
            "Successfully installed scikit-surprise-1.1.3\n"
          ]
        }
      ]
    },
    {
      "cell_type": "code",
      "source": [
        "import pandas as pd\n",
        "from sklearn.feature_extraction.text import TfidfVectorizer\n",
        "from sklearn.metrics.pairwise import linear_kernel\n",
        "from sklearn.decomposition import TruncatedSVD\n",
        "from sklearn.preprocessing import LabelEncoder\n",
        "from scipy.sparse import csr_matrix\n",
        "from surprise import Dataset, Reader, SVD\n",
        "from surprise.model_selection import train_test_split\n",
        "import numpy as np\n",
        "from sklearn.decomposition import LatentDirichletAllocation\n",
        "from sklearn.feature_extraction.text import CountVectorizer\n",
        "from sklearn.metrics.pairwise import cosine_similarity"
      ],
      "metadata": {
        "id": "qWFVgOqh3pfN"
      },
      "execution_count": 1,
      "outputs": []
    },
    {
      "cell_type": "markdown",
      "source": [
        "**Excess the dataset from github**"
      ],
      "metadata": {
        "id": "NOQq9ltBv-Hp"
      }
    },
    {
      "cell_type": "code",
      "execution_count": 2,
      "metadata": {
        "id": "RzqBQKXea_Hs"
      },
      "outputs": [],
      "source": [
        "# URL of the CSV file hosted on GitHub\n",
        "movie_url = \"https://media.githubusercontent.com/media/pujan08/Movie_Recommender_System/main/movies.csv\"\n",
        "rating_url =\"https://media.githubusercontent.com/media/pujan08/Movie_Recommender_System/main/ratings.csv\"\n",
        "tags_url = \"https://media.githubusercontent.com/media/pujan08/Movie_Recommender_System/main/tags.csv\"\n"
      ]
    },
    {
      "cell_type": "markdown",
      "source": [
        "**# Read the CSV files into DataFrames**"
      ],
      "metadata": {
        "id": "fxG30CSbv9FA"
      }
    },
    {
      "cell_type": "code",
      "source": [
        "movies_df = pd.read_csv(movie_url)\n",
        "ratings_df = pd.read_csv(rating_url,nrows=1000000)\n",
        "tags_df = pd.read_csv(tags_url)"
      ],
      "metadata": {
        "id": "WjTCYZaXwREp"
      },
      "execution_count": 3,
      "outputs": []
    },
    {
      "cell_type": "markdown",
      "source": [
        "**#Print the first 10 rows**"
      ],
      "metadata": {
        "id": "GZCQPuPx2bhU"
      }
    },
    {
      "cell_type": "code",
      "source": [
        "print(movies_df.head(10))\n",
        "print(\"\\n\")\n",
        "print(ratings_df.head(10))\n",
        "print(\"\\n\")\n",
        "print(tags_df.head(10))\n"
      ],
      "metadata": {
        "colab": {
          "base_uri": "https://localhost:8080/"
        },
        "id": "o4sIRE8hz__B",
        "outputId": "2de39f1c-ff11-4f87-960e-95e553156ea4"
      },
      "execution_count": 4,
      "outputs": [
        {
          "output_type": "stream",
          "name": "stdout",
          "text": [
            "   movieId                               title  \\\n",
            "0        1                    Toy Story (1995)   \n",
            "1        2                      Jumanji (1995)   \n",
            "2        3             Grumpier Old Men (1995)   \n",
            "3        4            Waiting to Exhale (1995)   \n",
            "4        5  Father of the Bride Part II (1995)   \n",
            "5        6                         Heat (1995)   \n",
            "6        7                      Sabrina (1995)   \n",
            "7        8                 Tom and Huck (1995)   \n",
            "8        9                 Sudden Death (1995)   \n",
            "9       10                    GoldenEye (1995)   \n",
            "\n",
            "                                        genres  \n",
            "0  Adventure|Animation|Children|Comedy|Fantasy  \n",
            "1                   Adventure|Children|Fantasy  \n",
            "2                               Comedy|Romance  \n",
            "3                         Comedy|Drama|Romance  \n",
            "4                                       Comedy  \n",
            "5                        Action|Crime|Thriller  \n",
            "6                               Comedy|Romance  \n",
            "7                           Adventure|Children  \n",
            "8                                       Action  \n",
            "9                    Action|Adventure|Thriller  \n",
            "\n",
            "\n",
            "   userId  movieId  rating   timestamp\n",
            "0       1        2     3.5  1112486027\n",
            "1       1       29     3.5  1112484676\n",
            "2       1       32     3.5  1112484819\n",
            "3       1       47     3.5  1112484727\n",
            "4       1       50     3.5  1112484580\n",
            "5       1      112     3.5  1094785740\n",
            "6       1      151     4.0  1094785734\n",
            "7       1      223     4.0  1112485573\n",
            "8       1      253     4.0  1112484940\n",
            "9       1      260     4.0  1112484826\n",
            "\n",
            "\n",
            "   userId  movieId               tag   timestamp\n",
            "0      18     4141       Mark Waters  1240597180\n",
            "1      65      208         dark hero  1368150078\n",
            "2      65      353         dark hero  1368150079\n",
            "3      65      521     noir thriller  1368149983\n",
            "4      65      592         dark hero  1368150078\n",
            "5      65      668         bollywood  1368149876\n",
            "6      65      898  screwball comedy  1368150160\n",
            "7      65     1248     noir thriller  1368149983\n",
            "8      65     1391              mars  1368150055\n",
            "9      65     1617          neo-noir  1368150217\n"
          ]
        }
      ]
    },
    {
      "cell_type": "markdown",
      "source": [
        "**Merge movies and tags for content filtering**"
      ],
      "metadata": {
        "id": "lZ6dJ_vR37vV"
      }
    },
    {
      "cell_type": "code",
      "source": [
        "tags_grouped = tags_df.groupby('movieId')['tag'].apply(lambda x: ' '.join(x.dropna())).reset_index()\n",
        "movie_tags_df = pd.merge(movies_df, tags_grouped, on='movieId', how='left')\n"
      ],
      "metadata": {
        "id": "b6Tla0Mf1jTT"
      },
      "execution_count": 5,
      "outputs": []
    },
    {
      "cell_type": "markdown",
      "source": [
        "**#Form metadata by joining all tag fields for each movie_title**"
      ],
      "metadata": {
        "id": "mflLy2FiILSE"
      }
    },
    {
      "cell_type": "code",
      "source": [
        "movie_tags_df['metadata'] = movie_tags_df['title'] + ' ' + movie_tags_df['tag'].fillna('')\n",
        "movie_tags_df['metadata'] = movie_tags_df['metadata'].str.strip()\n"
      ],
      "metadata": {
        "id": "OLFrVmk0xW-t"
      },
      "execution_count": 6,
      "outputs": []
    },
    {
      "cell_type": "markdown",
      "source": [
        "**# Build TF-IDF Vectorizer model and TruncatedSVD for content filtering**\n"
      ],
      "metadata": {
        "id": "gGeAhOwxITL7"
      }
    },
    {
      "cell_type": "code",
      "source": [
        "tfidf = TfidfVectorizer(stop_words='english')\n",
        "tfidf_matrix = tfidf.fit_transform(movie_tags_df['metadata'])\n",
        "\n",
        "lda = LatentDirichletAllocation(n_components=100)\n",
        "latent_matrix_1 = lda.fit_transform(tfidf_matrix)"
      ],
      "metadata": {
        "id": "rX3_1IarISdI"
      },
      "execution_count": 7,
      "outputs": []
    },
    {
      "cell_type": "markdown",
      "source": [
        "**# Compute item-item similarity matrix**"
      ],
      "metadata": {
        "id": "5cgTvH69Z8S8"
      }
    },
    {
      "cell_type": "code",
      "source": [
        "item_similarity_matrix = cosine_similarity(tfidf_matrix)"
      ],
      "metadata": {
        "id": "l7mVxlmfYo-2"
      },
      "execution_count": 8,
      "outputs": []
    },
    {
      "cell_type": "markdown",
      "source": [
        "**Define hybrid model.**"
      ],
      "metadata": {
        "id": "AwgJLXqHXGn9"
      }
    },
    {
      "cell_type": "code",
      "source": [
        "def hybrid_recommendation(user_id, movie_title, item_similarity_matrix, ratings_df, movies_df, top_n=10, content_alpha=0.5, collab_alpha=0.5):\n",
        "    # Get content-based scores\n",
        "    content_scores = content_based_scores(movie_title, latent_matrix_1, movie_tags_df)\n",
        "\n",
        "    # Get collaborative filtering scores\n",
        "    collab_scores = collaborative_filtering_scores(user_id, movie_title, item_similarity_matrix, ratings_df, movies_df)\n",
        "\n",
        "    # Combine scores using weighted average\n",
        "    hybrid_scores = content_alpha * content_scores + collab_alpha * collab_scores\n",
        "\n",
        "    # Get indices of top recommendations\n",
        "    top_indices = np.argsort(hybrid_scores)[::-1][:top_n]\n",
        "\n",
        "    # Get movie titles corresponding to the top indices\n",
        "    recommended_movies = [movies_df.iloc[index]['title'] for index in top_indices]\n",
        "\n",
        "    return recommended_movies\n",
        "\n",
        "def content_based_scores(movie_title, latent_matrix_1, movie_tags_df):\n",
        "    # Get movie metadata\n",
        "    movie_metadata = movie_tags_df.loc[movie_tags_df['title'] == movie_title, 'metadata'].values[0]\n",
        "\n",
        "    # Transform movie metadata\n",
        "    tfidf_vector = tfidf.transform([movie_metadata])\n",
        "    content_scores = cosine_similarity(tfidf_vector, tfidf_matrix)\n",
        "\n",
        "    return content_scores.flatten()\n",
        "\n",
        "def collaborative_filtering_scores(user_id, movie_title, item_similarity_matrix, ratings_df, movies_df):\n",
        "    # Get the user's ratings\n",
        "    user_ratings = ratings_df[ratings_df['userId'] == user_id]\n",
        "\n",
        "    # Get the movie's index in the movies DataFrame\n",
        "    movie_index = movies_df[movies_df['title'] == movie_title].index\n",
        "\n",
        "    # If the movie is not found in the DataFrame, return a default score\n",
        "    if len(movie_index) == 0:\n",
        "        return 0.0\n",
        "\n",
        "    movie_index = movie_index[0]  # Extract the index value\n",
        "\n",
        "    # Get similarity scores for the target movie with all other movies\n",
        "    similarity_scores = item_similarity_matrix[movie_index]\n",
        "\n",
        "    # Get indices of movies the user has rated\n",
        "    rated_movies_indices = [movies_df[movies_df['movieId'] == movie_id].index[0] for movie_id in user_ratings['movieId']]\n",
        "\n",
        "    # Compute weighted sum of similarity scores with the user's ratings\n",
        "    collab_scores = np.sum(similarity_scores[rated_movies_indices] * user_ratings['rating'].values) / np.sum(similarity_scores[rated_movies_indices])\n",
        "\n",
        "    return collab_scores"
      ],
      "metadata": {
        "id": "52d5PzgZXL2Z"
      },
      "execution_count": 9,
      "outputs": []
    },
    {
      "cell_type": "markdown",
      "source": [
        "**#call the functions**"
      ],
      "metadata": {
        "id": "o-H48H7TXR2a"
      }
    },
    {
      "cell_type": "code",
      "source": [
        "# Example usage\n",
        "user_id = 1\n",
        "movie_title = 'Toy Story (1995)'\n",
        "recommended_movies = hybrid_recommendation(user_id, movie_title, item_similarity_matrix, ratings_df, movies_df)\n",
        "print(\"Hybrid Recommendations:\")\n",
        "print(recommended_movies)"
      ],
      "metadata": {
        "colab": {
          "base_uri": "https://localhost:8080/"
        },
        "id": "e2SyYj2XXVCm",
        "outputId": "eb588525-87a6-45da-e938-87cae8923c34"
      },
      "execution_count": 10,
      "outputs": [
        {
          "output_type": "stream",
          "name": "stdout",
          "text": [
            "Hybrid Recommendations:\n",
            "['Toy Story (1995)', 'Toy Story 2 (1999)', \"Bug's Life, A (1998)\", 'Monsters, Inc. (2001)', 'Finding Nemo (2003)', 'Ice Age (2002)', 'Toy Story 3 (2010)', 'Ratatouille (2007)', 'Incredibles, The (2004)', 'Monsters University (2013)']\n"
          ]
        }
      ]
    },
    {
      "cell_type": "markdown",
      "source": [
        "**Popularity-based Recommender**"
      ],
      "metadata": {
        "id": "RVVHXC3CThpN"
      }
    },
    {
      "cell_type": "code",
      "source": [
        "def popularity_recommender(df, top_n=10):\n",
        "    popular_movies = df.groupby('movieId')['rating'].count().sort_values(ascending=False).index[:top_n]\n",
        "    return df[df['movieId'].isin(popular_movies)]['movieId'].unique()"
      ],
      "metadata": {
        "id": "JfBWf8PyTnLe"
      },
      "execution_count": null,
      "outputs": []
    },
    {
      "cell_type": "markdown",
      "source": [
        "**Content-based Filtering**"
      ],
      "metadata": {
        "id": "Zg3A3EE_UsNK"
      }
    },
    {
      "cell_type": "code",
      "source": [
        "def content_based_recommender(df, movie_title, top_n=10):\n",
        "    tfidf = TfidfVectorizer(stop_words='english')\n",
        "    tfidf_matrix = tfidf.fit_transform(df['metadata'])\n",
        "\n",
        "    cosine_sim = linear_kernel(tfidf_matrix, tfidf_matrix)\n",
        "\n",
        "    movie_indices = pd.Series(df.index, index=df['title'])\n",
        "\n",
        "    def get_recommendations(title):\n",
        "        idx = movie_indices[title]\n",
        "        sim_scores = list(enumerate(cosine_sim[idx]))\n",
        "        sim_scores = sorted(sim_scores, key=lambda x: x[1], reverse=True)\n",
        "        sim_scores = sim_scores[1:top_n+1]\n",
        "        movie_indices_local = [i[0] for i in sim_scores]  # Change variable name to avoid UnboundLocalError\n",
        "        return df['title'].iloc[movie_indices_local].values\n",
        "\n",
        "    return get_recommendations(movie_title)\n"
      ],
      "metadata": {
        "id": "i1_tLPxyUti6"
      },
      "execution_count": null,
      "outputs": []
    },
    {
      "cell_type": "markdown",
      "source": [
        "**Collaborative Filtering**"
      ],
      "metadata": {
        "id": "93Ymv2meWPWT"
      }
    },
    {
      "cell_type": "code",
      "source": [
        "def collaborative_filtering_recommender(df, user_id, top_n=10):\n",
        "    label_encoders = {}\n",
        "    for column in ['userId', 'movieId']:\n",
        "        label_encoders[column] = LabelEncoder()\n",
        "        df[column] = label_encoders[column].fit_transform(df[column])\n",
        "\n",
        "    user_movie_matrix = df.pivot(index='userId', columns='movieId', values='rating').fillna(0)\n",
        "\n",
        "    sparse_user_movie_matrix = csr_matrix(user_movie_matrix.values)\n",
        "    svd_collab = TruncatedSVD(n_components=100)\n",
        "    latent_matrix_2 = svd_collab.fit_transform(sparse_user_movie_matrix)\n",
        "\n",
        "    def get_recommendations(user_id):\n",
        "        user_idx = label_encoders['userId'].transform([user_id])[0]\n",
        "        user_ratings = df[df['userId'] == user_id]\n",
        "        user_unrated_movies = df[~df['movieId'].isin(user_ratings['movieId'])]['movieId'].unique()\n",
        "\n",
        "        predictions = [(mid, latent_matrix_2[user_idx][mid]) for mid in user_unrated_movies if mid < len(latent_matrix_2[user_idx])]\n",
        "        predictions.sort(key=lambda x: x[1], reverse=True)\n",
        "        return [df[df['movieId'] == mid]['movieId'].values[0] for mid, _ in predictions[:top_n]]\n",
        "\n",
        "    return get_recommendations(user_id)\n"
      ],
      "metadata": {
        "id": "HpxYpaFcWOaE"
      },
      "execution_count": null,
      "outputs": []
    },
    {
      "cell_type": "markdown",
      "source": [
        "***Matrix Factorization***"
      ],
      "metadata": {
        "id": "wp3UPngBWWNF"
      }
    },
    {
      "cell_type": "code",
      "source": [
        "def matrix_factorization_recommender(df, user_id, top_n=10):\n",
        "    label_encoders = {}\n",
        "    for column in ['userId', 'movieId']:\n",
        "        label_encoders[column] = LabelEncoder()\n",
        "        df[column] = label_encoders[column].fit_transform(df[column])\n",
        "\n",
        "    user_movie_matrix = df.pivot(index='userId', columns='movieId', values='rating').fillna(0)\n",
        "\n",
        "    sparse_user_movie_matrix = csr_matrix(user_movie_matrix.values)\n",
        "    svd_collab = TruncatedSVD(n_components=100)\n",
        "    latent_matrix_2 = svd_collab.fit_transform(sparse_user_movie_matrix)\n",
        "\n",
        "    def get_recommendations(user_id):\n",
        "        user_idx = label_encoders['userId'].transform([user_id])[0]\n",
        "        user_ratings = df[df['userId'] == user_id]\n",
        "        user_unrated_movies = df[~df['movieId'].isin(user_ratings['movieId'])]['movieId'].unique()\n",
        "\n",
        "        predictions = [(mid, latent_matrix_2[user_idx][mid]) for mid in user_unrated_movies if mid < len(latent_matrix_2[user_idx])]\n",
        "        predictions.sort(key=lambda x: x[1], reverse=True)\n",
        "        return [df[df['movieId'] == mid]['movieId'].values[0] for mid, _ in predictions[:top_n]]\n",
        "\n",
        "    return get_recommendations(user_id)\n"
      ],
      "metadata": {
        "id": "cw7yKhIlWYQ_"
      },
      "execution_count": null,
      "outputs": []
    },
    {
      "cell_type": "markdown",
      "source": [
        "**Example usage of each recommender**"
      ],
      "metadata": {
        "id": "4PWl7xUqWiv9"
      }
    },
    {
      "cell_type": "code",
      "source": [
        "user_id = 1\n",
        "movie_title = 'Toy Story (1995)'\n",
        "print(\"Popularity-based Recommender:\")\n",
        "print(popularity_recommender(ratings_df))\n",
        "print(\"\\nContent-based Filtering:\")\n",
        "print(content_based_recommender(movie_tags_df, movie_title))\n",
        "print(\"\\nCollaborative Filtering:\")\n",
        "print(collaborative_filtering_recommender(ratings_df, user_id))\n",
        "print(\"\\nMatrix Factorization:\")\n",
        "print(matrix_factorization_recommender(ratings_df, user_id))"
      ],
      "metadata": {
        "colab": {
          "base_uri": "https://localhost:8080/"
        },
        "id": "CT_nK10EWm54",
        "outputId": "311a34ce-ae2c-49c6-eec3-8a2406e8c1c9"
      },
      "execution_count": null,
      "outputs": [
        {
          "output_type": "stream",
          "name": "stdout",
          "text": [
            "Popularity-based Recommender:\n",
            "[ 260  296  318  589  593  110  480 2571  356  527]\n",
            "\n",
            "Content-based Filtering:\n",
            "['Toy Story 2 (1999)' \"Bug's Life, A (1998)\" 'Monsters, Inc. (2001)'\n",
            " 'Finding Nemo (2003)' 'Ice Age (2002)' 'Toy Story 3 (2010)'\n",
            " 'Ratatouille (2007)' 'Incredibles, The (2004)'\n",
            " 'Monsters University (2013)' 'Up (2009)']\n",
            "\n",
            "Collaborative Filtering:\n",
            "[0, 13, 6, 19, 25, 96, 42, 34, 35, 15]\n",
            "\n",
            "Matrix Factorization:\n",
            "[0, 15, 28, 17, 6, 50, 10, 14, 1, 40]\n"
          ]
        }
      ]
    },
    {
      "cell_type": "code",
      "source": [],
      "metadata": {
        "id": "UwyFW9cTa2Ot"
      },
      "execution_count": null,
      "outputs": []
    }
  ]
}